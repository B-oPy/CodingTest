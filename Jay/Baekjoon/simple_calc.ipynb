{
 "cells": [
  {
   "cell_type": "code",
   "execution_count": 2,
   "id": "c16e20fc",
   "metadata": {},
   "outputs": [
    {
     "name": "stdout",
     "output_type": "stream",
     "text": [
      "25 3\n",
      "6\n"
     ]
    }
   ],
   "source": [
    "def simple_calc(n, k):\n",
    "    result = 0 \n",
    "    while True:\n",
    "        target = (n//k)*k\n",
    "        result += (n-target)\n",
    "        n = target\n",
    "        if n < k:\n",
    "            break\n",
    "        result += 1\n",
    "        n //= k\n",
    "    result += (n-1)\n",
    "    return result \n",
    "n, k = map(int, input().split())\n",
    "print(simple_calc(n,k))"
   ]
  },
  {
   "cell_type": "code",
   "execution_count": null,
   "id": "a5c6b78a",
   "metadata": {},
   "outputs": [],
   "source": []
  }
 ],
 "metadata": {
  "hide_input": false,
  "kernelspec": {
   "display_name": "Python 3 (ipykernel)",
   "language": "python",
   "name": "python3"
  },
  "language_info": {
   "codemirror_mode": {
    "name": "ipython",
    "version": 3
   },
   "file_extension": ".py",
   "mimetype": "text/x-python",
   "name": "python",
   "nbconvert_exporter": "python",
   "pygments_lexer": "ipython3",
   "version": "3.9.12"
  },
  "toc": {
   "base_numbering": 1,
   "nav_menu": {},
   "number_sections": true,
   "sideBar": true,
   "skip_h1_title": false,
   "title_cell": "Table of Contents",
   "title_sidebar": "Contents",
   "toc_cell": false,
   "toc_position": {},
   "toc_section_display": true,
   "toc_window_display": false
  }
 },
 "nbformat": 4,
 "nbformat_minor": 5
}
