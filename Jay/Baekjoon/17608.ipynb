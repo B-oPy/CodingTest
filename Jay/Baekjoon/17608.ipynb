{
 "cells": [
  {
   "cell_type": "code",
   "execution_count": null,
   "metadata": {
    "id": "HoiTYcbz445F"
   },
   "outputs": [],
   "source": [
    "n = int(input())\n",
    "list = []\n",
    "for _ in range(n):\n",
    "    list.append(int(input()))\n",
    "    \n",
    "cnt = 1\n",
    "k = list[-1]\n",
    "for i in range(n-1, -1, -1):\n",
    "  if list[i] > k :\n",
    "    cnt += 1\n",
    "    k = list[i]\n",
    "print(cnt)"
   ]
  }
 ],
 "metadata": {
  "colab": {
   "authorship_tag": "ABX9TyMMEOvkrSrflyB2kxPeYYUK",
   "collapsed_sections": [],
   "name": "stick.ipynb",
   "provenance": []
  },
  "hide_input": false,
  "kernelspec": {
   "display_name": "Python 3 (ipykernel)",
   "language": "python",
   "name": "python3"
  },
  "language_info": {
   "codemirror_mode": {
    "name": "ipython",
    "version": 3
   },
   "file_extension": ".py",
   "mimetype": "text/x-python",
   "name": "python",
   "nbconvert_exporter": "python",
   "pygments_lexer": "ipython3",
   "version": "3.9.12"
  },
  "toc": {
   "base_numbering": 1,
   "nav_menu": {},
   "number_sections": false,
   "sideBar": true,
   "skip_h1_title": false,
   "title_cell": "Table of Contents",
   "title_sidebar": "Contents",
   "toc_cell": false,
   "toc_position": {},
   "toc_section_display": true,
   "toc_window_display": false
  }
 },
 "nbformat": 4,
 "nbformat_minor": 1
}
